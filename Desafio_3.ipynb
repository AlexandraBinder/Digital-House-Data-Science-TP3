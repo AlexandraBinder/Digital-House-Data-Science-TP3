{
 "cells": [
  {
   "cell_type": "markdown",
   "id": "6c21354d-d966-4304-931d-6b58a836ca70",
   "metadata": {},
   "source": [
    "Hola me llamo Alexandra"
   ]
  },
  {
   "cell_type": "code",
   "execution_count": null,
   "id": "099a5713-2fe8-425f-aff1-5d85a44dbcaa",
   "metadata": {},
   "outputs": [],
   "source": []
  }
 ],
 "metadata": {
  "kernelspec": {
   "display_name": "Python 3 (ipykernel)",
   "language": "python",
   "name": "python3"
  },
  "language_info": {
   "codemirror_mode": {
    "name": "ipython",
    "version": 3
   },
   "file_extension": ".py",
   "mimetype": "text/x-python",
   "name": "python",
   "nbconvert_exporter": "python",
   "pygments_lexer": "ipython3",
   "version": "3.7.11"
  }
 },
 "nbformat": 4,
 "nbformat_minor": 5
}
